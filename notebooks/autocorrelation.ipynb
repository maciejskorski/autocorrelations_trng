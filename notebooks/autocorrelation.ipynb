{
  "nbformat": 4,
  "nbformat_minor": 0,
  "metadata": {
    "colab": {
      "provenance": [],
      "authorship_tag": "ABX9TyNBfsdO91wbP6/sMAdamO6f",
      "include_colab_link": true
    },
    "kernelspec": {
      "name": "python3",
      "display_name": "Python 3"
    },
    "language_info": {
      "name": "python"
    }
  },
  "cells": [
    {
      "cell_type": "markdown",
      "metadata": {
        "id": "view-in-github",
        "colab_type": "text"
      },
      "source": [
        "<a href=\"https://colab.research.google.com/github/maciejskorski/deep_correlations_trng/blob/main/notebooks/autocorrelation.ipynb\" target=\"_parent\"><img src=\"https://colab.research.google.com/assets/colab-badge.svg\" alt=\"Open In Colab\"/></a>"
      ]
    },
    {
      "cell_type": "code",
      "execution_count": 1,
      "metadata": {
        "colab": {
          "base_uri": "https://localhost:8080/"
        },
        "id": "tP0ZvuzKqeKz",
        "outputId": "e9b7d07c-0347-495c-d600-cbc79cf7eeab"
      },
      "outputs": [
        {
          "output_type": "stream",
          "name": "stdout",
          "text": [
            "\u001b[33mWARNING: Running pip as the 'root' user can result in broken permissions and conflicting behaviour with the system package manager. It is recommended to use a virtual environment instead: https://pip.pypa.io/warnings/venv\u001b[0m\u001b[33m\n",
            "\u001b[0mfatal: destination path 'deep_correlations_trng' already exists and is not an empty directory.\n",
            "/content/deep_correlations_trng\n",
            "  Installing build dependencies ... \u001b[?25l\u001b[?25hdone\n",
            "  Getting requirements to build wheel ... \u001b[?25l\u001b[?25hdone\n",
            "  Installing backend dependencies ... \u001b[?25l\u001b[?25hdone\n",
            "  Preparing metadata (pyproject.toml) ... \u001b[?25l\u001b[?25hdone\n",
            "  Building wheel for deep-correlations-trng (pyproject.toml) ... \u001b[?25l\u001b[?25hdone\n",
            "\u001b[33mWARNING: Running pip as the 'root' user can result in broken permissions and conflicting behaviour with the system package manager. It is recommended to use a virtual environment instead: https://pip.pypa.io/warnings/venv\u001b[0m\u001b[33m\n",
            "\u001b[0m"
          ]
        }
      ],
      "source": [
        "!pip install --upgrade pip --quiet\n",
        "!git clone https://github.com/maciejskorski/deep_correlations_trng.git --quiet\n",
        "%cd deep_correlations_trng\n",
        "!pip install . --quiet"
      ]
    },
    {
      "cell_type": "code",
      "source": [
        "try:\n",
        "    from importlib.resources import files\n",
        "except:\n",
        "    from importlib_resources import files\n",
        "from deep_correlations_trng.utils import read_bits\n",
        "from deep_correlations_trng import data\n",
        "\n",
        "data_file = files(data).joinpath('acq_20220608163343_all_dff_out1.bin')\n",
        "bits = read_bits(data_file)"
      ],
      "metadata": {
        "id": "Lhhua-p-wx4F"
      },
      "execution_count": 2,
      "outputs": []
    },
    {
      "cell_type": "code",
      "source": [
        "import numpy as np\n",
        "from scipy.stats import pearsonr\n",
        "\n",
        "lags = np.arange(0,10)*50\n",
        "\n",
        "results = []\n",
        "for lag in lags:\n",
        "  if lag == 0:\n",
        "    r = (1,0)\n",
        "  else:\n",
        "    r = pearsonr(bits[lag:],bits[:-lag])\n",
        "  results.append((lag,)+tuple(r))"
      ],
      "metadata": {
        "id": "O2Nycx9A0yFS"
      },
      "execution_count": 3,
      "outputs": []
    },
    {
      "cell_type": "code",
      "source": [
        "import matplotlib.pyplot as plt\n",
        "plt.style.use('ggplot')\n",
        "fig, ax = plt.subplots()\n",
        "plt.plot(lags,np.array(results)[:,1],marker='x')\n",
        "ax.set_xlabel('lag')\n",
        "ax.set_ylabel('autocorrelation')"
      ],
      "metadata": {
        "colab": {
          "base_uri": "https://localhost:8080/",
          "height": 300
        },
        "id": "wQgjrR_J2HPv",
        "outputId": "95d486cb-e0d1-45f0-9c39-5966524b2bb3"
      },
      "execution_count": 4,
      "outputs": [
        {
          "output_type": "execute_result",
          "data": {
            "text/plain": [
              "Text(0, 0.5, 'autocorrelation')"
            ]
          },
          "metadata": {},
          "execution_count": 4
        },
        {
          "output_type": "display_data",
          "data": {
            "text/plain": [
              "<Figure size 432x288 with 1 Axes>"
            ],
            "image/png": "[encoded data removed]"
          },
          "metadata": {}
        }
      ]
    }
  ]
}